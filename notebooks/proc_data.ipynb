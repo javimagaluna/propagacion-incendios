{
 "cells": [
  {
   "cell_type": "code",
   "execution_count": 1,
   "id": "281dec67",
   "metadata": {},
   "outputs": [],
   "source": [
    "import pandas as pd\n",
    "import geopandas as gpd\n",
    "import matplotlib.pyplot as plt\n",
    "from shapely.geometry import box\n",
    "import re\n",
    "\n",
    "\n",
    "from shapely.geometry import Point"
   ]
  },
  {
   "cell_type": "code",
   "execution_count": 12,
   "id": "d1cb3f9f",
   "metadata": {},
   "outputs": [
    {
     "name": "stdout",
     "output_type": "stream",
     "text": [
      "c:\\Users\\javie\\OneDrive\\Desktop\\magister\\Tesis\n"
     ]
    },
    {
     "name": "stderr",
     "output_type": "stream",
     "text": [
      "C:\\Users\\javie\\AppData\\Roaming\\Python\\Python311\\site-packages\\IPython\\core\\magics\\osm.py:417: UserWarning: This is now an optional IPython functionality, setting dhist requires you to install the `pickleshare` library.\n",
      "  self.shell.db['dhist'] = compress_dhist(dhist)[-100:]\n"
     ]
    }
   ],
   "source": [
    "%cd .."
   ]
  },
  {
   "cell_type": "markdown",
   "id": "6f9bf352",
   "metadata": {},
   "source": [
    "### read kmz"
   ]
  },
  {
   "cell_type": "code",
   "execution_count": 13,
   "id": "fb7675df",
   "metadata": {},
   "outputs": [
    {
     "name": "stderr",
     "output_type": "stream",
     "text": [
      "c:\\Users\\javie\\AppData\\Local\\Programs\\Python\\Python311\\Lib\\site-packages\\pyogrio\\geopandas.py:265: UserWarning: More than one layer found in 'J1_VIIRS_C2_USA_contiguous_and_Hawaii_7d_1745198875185.kml': '375m Fire Detection Centroids (Last 0 to 6hrs) ' (default), '375m Fire Detection Centroids (Last 6 to 12hrs) ', '375m Fire Detection Centroids (Last 12 to 24hrs) ', '375m Fire Detection Centroids (older than the last 24hrs) ', '375m Fire Detection Footprints (Last 0 to 6hrs) ', '375m Fire Detection Footprints (Last 6 to 12hrs) ', '375m Fire Detection Footprints (Last 12 to 24hrs) ', '375m Fire Detection Footprints (older than the last 24hrs) '. Specify layer parameter to avoid this warning.\n",
      "  result = read_func(\n",
      "c:\\Users\\javie\\AppData\\Local\\Programs\\Python\\Python311\\Lib\\site-packages\\pyogrio\\geopandas.py:265: UserWarning: More than one layer found in 'J2_VIIRS_C2_USA_contiguous_and_Hawaii_7d_1745198850787.kml': '375m Fire Detection Centroids (Last 0 to 6hrs) ' (default), '375m Fire Detection Centroids (Last 6 to 12hrs) ', '375m Fire Detection Centroids (Last 12 to 24hrs) ', '375m Fire Detection Centroids (older than the last 24hrs) ', '375m Fire Detection Footprints (Last 0 to 6hrs) ', '375m Fire Detection Footprints (Last 6 to 12hrs) ', '375m Fire Detection Footprints (Last 12 to 24hrs) ', '375m Fire Detection Footprints (older than the last 24hrs) '. Specify layer parameter to avoid this warning.\n",
      "  result = read_func(\n",
      "c:\\Users\\javie\\AppData\\Local\\Programs\\Python\\Python311\\Lib\\site-packages\\pyogrio\\geopandas.py:265: UserWarning: More than one layer found in 'SUOMI_VIIRS_C2_USA_contiguous_and_Hawaii_7d_1745198856426.kml': '375m Fire Detection Centroids (Last 0 to 6hrs) ' (default), '375m Fire Detection Centroids (Last 6 to 12hrs) ', '375m Fire Detection Centroids (Last 12 to 24hrs) ', '375m Fire Detection Centroids (older than the last 24hrs) ', '375m Fire Detection Footprints (Last 0 to 6hrs) ', '375m Fire Detection Footprints (Last 6 to 12hrs) ', '375m Fire Detection Footprints (Last 12 to 24hrs) ', '375m Fire Detection Footprints (older than the last 24hrs) '. Specify layer parameter to avoid this warning.\n",
      "  result = read_func(\n",
      "c:\\Users\\javie\\AppData\\Local\\Programs\\Python\\Python311\\Lib\\site-packages\\pyogrio\\geopandas.py:265: UserWarning: More than one layer found in 'MODIS_C61_USA_contiguous_and_Hawaii_7d_1745198859398.kml': '1km Fire Detection Centroids (Last 0 to 6hrs) ' (default), '1km Fire Detection Centroids (Last 6 to 12hrs) ', '1km Fire Detection Centroids (Last 12 to 24hrs) ', '1km Fire Detection Centroids (older than the last 24hrs) ', '1km Fire Detection Footprints (Last 0 to 6hrs) ', '1km Fire Detection Footprints (Last 6 to 12hrs) ', '1km Fire Detection Footprints (Last 12 to 24hrs) ', '1km Fire Detection Footprints (older than the last 24hrs) '. Specify layer parameter to avoid this warning.\n",
      "  result = read_func(\n",
      "c:\\Users\\javie\\AppData\\Local\\Programs\\Python\\Python311\\Lib\\site-packages\\pyogrio\\geopandas.py:265: UserWarning: More than one layer found in 'LANDSAT_USA_contiguous_and_Hawaii_7d_1745198890398.kml': '30m Fire Detection Centroids (Last 6 to 12hrs) ' (default), '30m Fire Detection Centroids (older than the last 24hrs) ', '30m Fire Detection Footprints (Last 6 to 12hrs) ', '30m Fire Detection Footprints (older than the last 24hrs) '. Specify layer parameter to avoid this warning.\n",
      "  result = read_func(\n"
     ]
    }
   ],
   "source": [
    "# read kmz\n",
    "j1_viirs = gpd.read_file(r\"data\\EEUU\\URT\\J1_VIIRS_C2_USA_contiguous_and_Hawaii_7d_1745198875185.kml\")\n",
    "j2_viirs = gpd.read_file(r\"data\\EEUU\\URT\\J2_VIIRS_C2_USA_contiguous_and_Hawaii_7d_1745198850787.kml\")\n",
    "suomi_viirs = gpd.read_file(r\"data\\EEUU\\URT\\SUOMI_VIIRS_C2_USA_contiguous_and_Hawaii_7d_1745198856426.kml\")\n",
    "modis = gpd.read_file(r\"data\\EEUU\\URT\\MODIS_C61_USA_contiguous_and_Hawaii_7d_1745198859398.kml\")\n",
    "landsat = gpd.read_file(r'data\\EEUU\\URT\\LANDSAT_USA_contiguous_and_Hawaii_7d_1745198890398.kml')\n"
   ]
  },
  {
   "cell_type": "code",
   "execution_count": 28,
   "id": "e9fdf31e",
   "metadata": {},
   "outputs": [
    {
     "data": {
      "text/plain": [
       "'<b>Latitude: </b> 47.56953<br/>  <b>Longitude: </b> -111.04112<br/>  <b>Detection Time: </b> 2025-04-20 20:57 UTC<br/>  <b>Sensor: </b> NOAA-20 VIIRS<br/> <b>Confidence: </b> Nominal<br/>  <b>Day/Night: </b> Day<br/> <b>Scan: </b> 0.34 km<br/> <b>Track: </b> 0.56 km<br/> <b>FRP: </b> 4.13 MW<br/> <b>Brightness: </b> 346.76 K'"
      ]
     },
     "execution_count": 28,
     "metadata": {},
     "output_type": "execute_result"
    }
   ],
   "source": [
    "j1_viirs['Description'][0]"
   ]
  },
  {
   "cell_type": "code",
   "execution_count": 15,
   "id": "20f71923",
   "metadata": {},
   "outputs": [],
   "source": [
    "# Función para extraer las etiquetas\n",
    "def parse_description(desc):\n",
    "    # Usamos expresiones regulares para extraer los valores\n",
    "    data = {\n",
    "        'Latitude': re.search(r'Latitude:\\s*</b>\\s*([\\d\\.-]+)', desc),\n",
    "        'Longitude': re.search(r'Longitude:\\s*</b>\\s*([\\d\\.-]+)', desc),\n",
    "        'DetectionTime': re.search(r'Detection Time:\\s*</b>\\s*([\\d\\- :]+)', desc),\n",
    "        'Sensor': re.search(r'Sensor:\\s*</b>\\s*([\\w\\- ]+)', desc),\n",
    "        'Confidence': re.search(r'Confidence:\\s*</b>\\s*([\\w]+)', desc),\n",
    "        'DayNight': re.search(r'Day/Night:\\s*</b>\\s*([\\w]+)', desc),\n",
    "        'Scan_km': re.search(r'Scan:\\s*</b>\\s*([\\d\\.]+)', desc),\n",
    "        'Track_km': re.search(r'Track:\\s*</b>\\s*([\\d\\.]+)', desc),\n",
    "        'FRP_MW': re.search(r'FRP:\\s*</b>\\s*([\\d\\.]+)', desc),\n",
    "        'Brightness_K': re.search(r'Brightness:\\s*</b>\\s*([\\d\\.]+)', desc),\n",
    "    }\n",
    "    # Extrae solo el grupo encontrado (group(1)) o None\n",
    "    return {k: v.group(1) if v else None for k, v in data.items()}\n",
    "\n",
    "def agrergar_cols(df):\n",
    "    # Aplica la función a cada descripción\n",
    "    parsed_data = df['Description'].apply(parse_description).apply(pd.Series)\n",
    "\n",
    "    # Convierte algunos valores a tipos útiles (fechas y números)\n",
    "    parsed_data['DetectionTime'] = pd.to_datetime(parsed_data['DetectionTime'], errors='coerce')\n",
    "    for col in ['Latitude', 'Longitude', 'Scan_km', 'Track_km', 'FRP_MW', 'Brightness_K']:\n",
    "        parsed_data[col] = pd.to_numeric(parsed_data[col], errors='coerce')\n",
    "\n",
    "    # Une con el GeoDataFrame original\n",
    "    return df.join(parsed_data)\n"
   ]
  },
  {
   "cell_type": "code",
   "execution_count": null,
   "id": "424cbea2",
   "metadata": {},
   "outputs": [],
   "source": [
    "j1_viirs = agrergar_cols(j1_viirs)\n",
    "\n",
    "j2_viirs = agrergar_cols(j2_viirs)\n",
    "modis = agrergar_cols(modis)\n",
    "suomi_viirs = agrergar_cols(suomi_viirs)\n",
    "landsat = agrergar_cols(landsat)"
   ]
  },
  {
   "cell_type": "code",
   "execution_count": null,
   "id": "be3f684c",
   "metadata": {},
   "outputs": [],
   "source": [
    "suomi_viirs = agrergar_cols(suomi_viirs)"
   ]
  },
  {
   "cell_type": "markdown",
   "id": "b425c148",
   "metadata": {},
   "source": [
    "### API"
   ]
  },
  {
   "cell_type": "code",
   "execution_count": null,
   "id": "a0e2cb34",
   "metadata": {},
   "outputs": [],
   "source": [
    "satellite = ['VIIRS_NOAA20_NRT', 'MODIS_NRT', 'VIIRS_NOAA21_NRT', 'VIIRS_SNPP_NRT', 'LANDSAT_NRT']"
   ]
  },
  {
   "cell_type": "code",
   "execution_count": 2,
   "id": "6eeb3feb",
   "metadata": {},
   "outputs": [],
   "source": [
    "MAP_KEY = '0b459343230aa13d73681c87891d464c'"
   ]
  },
  {
   "cell_type": "code",
   "execution_count": null,
   "id": "581c8f34",
   "metadata": {},
   "outputs": [],
   "source": [
    "## api conection:\n",
    "satellite = 'LANDSAT_NRT'\n",
    "\n",
    "\n",
    "usa_url = 'https://firms.modaps.eosdis.nasa.gov/api/country/csv/' + MAP_KEY + f'/{satellite}/USA/9'\n",
    "df_usa = pd.read_csv(usa_url)"
   ]
  },
  {
   "cell_type": "code",
   "execution_count": 7,
   "id": "7e833a50",
   "metadata": {},
   "outputs": [],
   "source": [
    "def cambiar_fecha(df):\n",
    "    df['acq_datetime'] = pd.to_datetime(df['acq_date'].astype(str) + ' ' + df['acq_time'].astype(str).str.zfill(4), format='%Y-%m-%d %H%M')\n",
    "    return df"
   ]
  },
  {
   "cell_type": "code",
   "execution_count": 72,
   "id": "2b2be4ea",
   "metadata": {},
   "outputs": [],
   "source": [
    "def guardar_datos_api(df, path_save):\n",
    "    df = cambiar_fecha(df)\n",
    "\n",
    "    df[\"geometry\"] = df.apply(lambda row: Point(row[\"longitude\"], row[\"latitude\"]), axis=1)\n",
    "\n",
    "    # Convertir a GeoDataFrame\n",
    "    df = gpd.GeoDataFrame(df, geometry=\"geometry\", crs=\"EPSG:4326\")\n",
    "\n",
    "    print('guardando archivo')\n",
    "    df.to_file(path_save, driver=\"ESRI Shapefile\")"
   ]
  },
  {
   "cell_type": "code",
   "execution_count": 82,
   "id": "bcd6d024",
   "metadata": {},
   "outputs": [
    {
     "name": "stdout",
     "output_type": "stream",
     "text": [
      "guardando archivo\n"
     ]
    },
    {
     "name": "stderr",
     "output_type": "stream",
     "text": [
      "C:\\Users\\javie\\AppData\\Local\\Temp\\ipykernel_6472\\807974916.py:10: UserWarning: Column names longer than 10 characters will be truncated when saved to ESRI Shapefile.\n",
      "  df.to_file(path_save, driver=\"ESRI Shapefile\")\n",
      "c:\\Users\\javie\\AppData\\Local\\Programs\\Python\\Python311\\Lib\\site-packages\\pyogrio\\raw.py:723: RuntimeWarning: Normalized/laundered field name: 'acq_datetime' to 'acq_dateti'\n",
      "  ogr_write(\n",
      "c:\\Users\\javie\\AppData\\Local\\Programs\\Python\\Python311\\Lib\\site-packages\\pyogrio\\raw.py:723: RuntimeWarning: Field acq_dateti create as date field, though DateTime requested.\n",
      "  ogr_write(\n"
     ]
    }
   ],
   "source": [
    "guardar_datos_api(df_usa, 'data/EEUU/URT/API/LANDSAT_2004.shp')"
   ]
  },
  {
   "cell_type": "code",
   "execution_count": null,
   "id": "770506cf",
   "metadata": {},
   "outputs": [],
   "source": [
    "# 'data/EEUU/URT/API/NOAA20_2004.shp', 'data/EEUU/URT/API/modis_2004.shp', 'data/EEUU/URT/API/NOAA21_2004.shp', 'data/EEUU/URT/API/SUOMI_2004.shp', 'data/EEUU/URT/API/LANDSAT_2004.shp'"
   ]
  },
  {
   "cell_type": "code",
   "execution_count": 4,
   "id": "ca138324",
   "metadata": {},
   "outputs": [],
   "source": [
    "area_url = 'https://firms.modaps.eosdis.nasa.gov/api/area/csv/' + MAP_KEY + '/VIIRS_NOAA20_NRT/-83.97421,35.34632,-83.91338,35.39466/3'"
   ]
  },
  {
   "cell_type": "code",
   "execution_count": null,
   "id": "0d20f213",
   "metadata": {},
   "outputs": [],
   "source": [
    "df_area = pd.read_csv(area_url)\n"
   ]
  },
  {
   "cell_type": "code",
   "execution_count": 8,
   "id": "ef6ad5d0",
   "metadata": {},
   "outputs": [
    {
     "data": {
      "text/html": [
       "<div>\n",
       "<style scoped>\n",
       "    .dataframe tbody tr th:only-of-type {\n",
       "        vertical-align: middle;\n",
       "    }\n",
       "\n",
       "    .dataframe tbody tr th {\n",
       "        vertical-align: top;\n",
       "    }\n",
       "\n",
       "    .dataframe thead th {\n",
       "        text-align: right;\n",
       "    }\n",
       "</style>\n",
       "<table border=\"1\" class=\"dataframe\">\n",
       "  <thead>\n",
       "    <tr style=\"text-align: right;\">\n",
       "      <th></th>\n",
       "      <th>latitude</th>\n",
       "      <th>longitude</th>\n",
       "      <th>bright_ti4</th>\n",
       "      <th>scan</th>\n",
       "      <th>track</th>\n",
       "      <th>acq_date</th>\n",
       "      <th>acq_time</th>\n",
       "      <th>satellite</th>\n",
       "      <th>instrument</th>\n",
       "      <th>confidence</th>\n",
       "      <th>version</th>\n",
       "      <th>bright_ti5</th>\n",
       "      <th>frp</th>\n",
       "      <th>daynight</th>\n",
       "      <th>acq_datetime</th>\n",
       "    </tr>\n",
       "  </thead>\n",
       "  <tbody>\n",
       "    <tr>\n",
       "      <th>0</th>\n",
       "      <td>35.35469</td>\n",
       "      <td>-83.95306</td>\n",
       "      <td>298.77</td>\n",
       "      <td>0.48</td>\n",
       "      <td>0.65</td>\n",
       "      <td>2025-04-19</td>\n",
       "      <td>631</td>\n",
       "      <td>N20</td>\n",
       "      <td>VIIRS</td>\n",
       "      <td>n</td>\n",
       "      <td>2.0NRT</td>\n",
       "      <td>285.62</td>\n",
       "      <td>0.57</td>\n",
       "      <td>N</td>\n",
       "      <td>2025-04-19 06:31:00</td>\n",
       "    </tr>\n",
       "    <tr>\n",
       "      <th>1</th>\n",
       "      <td>35.35818</td>\n",
       "      <td>-83.94957</td>\n",
       "      <td>296.88</td>\n",
       "      <td>0.48</td>\n",
       "      <td>0.65</td>\n",
       "      <td>2025-04-19</td>\n",
       "      <td>631</td>\n",
       "      <td>N20</td>\n",
       "      <td>VIIRS</td>\n",
       "      <td>n</td>\n",
       "      <td>2.0NRT</td>\n",
       "      <td>286.38</td>\n",
       "      <td>0.68</td>\n",
       "      <td>N</td>\n",
       "      <td>2025-04-19 06:31:00</td>\n",
       "    </tr>\n",
       "    <tr>\n",
       "      <th>2</th>\n",
       "      <td>35.35840</td>\n",
       "      <td>-83.95387</td>\n",
       "      <td>302.87</td>\n",
       "      <td>0.48</td>\n",
       "      <td>0.65</td>\n",
       "      <td>2025-04-19</td>\n",
       "      <td>631</td>\n",
       "      <td>N20</td>\n",
       "      <td>VIIRS</td>\n",
       "      <td>n</td>\n",
       "      <td>2.0NRT</td>\n",
       "      <td>286.00</td>\n",
       "      <td>0.68</td>\n",
       "      <td>N</td>\n",
       "      <td>2025-04-19 06:31:00</td>\n",
       "    </tr>\n",
       "    <tr>\n",
       "      <th>3</th>\n",
       "      <td>35.36094</td>\n",
       "      <td>-83.95815</td>\n",
       "      <td>299.34</td>\n",
       "      <td>0.48</td>\n",
       "      <td>0.65</td>\n",
       "      <td>2025-04-19</td>\n",
       "      <td>631</td>\n",
       "      <td>N20</td>\n",
       "      <td>VIIRS</td>\n",
       "      <td>n</td>\n",
       "      <td>2.0NRT</td>\n",
       "      <td>285.57</td>\n",
       "      <td>1.56</td>\n",
       "      <td>N</td>\n",
       "      <td>2025-04-19 06:31:00</td>\n",
       "    </tr>\n",
       "    <tr>\n",
       "      <th>4</th>\n",
       "      <td>35.36505</td>\n",
       "      <td>-83.96644</td>\n",
       "      <td>299.34</td>\n",
       "      <td>0.48</td>\n",
       "      <td>0.65</td>\n",
       "      <td>2025-04-19</td>\n",
       "      <td>631</td>\n",
       "      <td>N20</td>\n",
       "      <td>VIIRS</td>\n",
       "      <td>n</td>\n",
       "      <td>2.0NRT</td>\n",
       "      <td>284.68</td>\n",
       "      <td>0.67</td>\n",
       "      <td>N</td>\n",
       "      <td>2025-04-19 06:31:00</td>\n",
       "    </tr>\n",
       "    <tr>\n",
       "      <th>5</th>\n",
       "      <td>35.36732</td>\n",
       "      <td>-83.96641</td>\n",
       "      <td>301.87</td>\n",
       "      <td>0.48</td>\n",
       "      <td>0.65</td>\n",
       "      <td>2025-04-19</td>\n",
       "      <td>631</td>\n",
       "      <td>N20</td>\n",
       "      <td>VIIRS</td>\n",
       "      <td>n</td>\n",
       "      <td>2.0NRT</td>\n",
       "      <td>285.41</td>\n",
       "      <td>1.46</td>\n",
       "      <td>N</td>\n",
       "      <td>2025-04-19 06:31:00</td>\n",
       "    </tr>\n",
       "    <tr>\n",
       "      <th>6</th>\n",
       "      <td>35.37402</td>\n",
       "      <td>-83.96383</td>\n",
       "      <td>295.58</td>\n",
       "      <td>0.42</td>\n",
       "      <td>0.61</td>\n",
       "      <td>2025-04-19</td>\n",
       "      <td>811</td>\n",
       "      <td>N20</td>\n",
       "      <td>VIIRS</td>\n",
       "      <td>n</td>\n",
       "      <td>2.0NRT</td>\n",
       "      <td>280.50</td>\n",
       "      <td>0.57</td>\n",
       "      <td>N</td>\n",
       "      <td>2025-04-19 08:11:00</td>\n",
       "    </tr>\n",
       "    <tr>\n",
       "      <th>7</th>\n",
       "      <td>35.37409</td>\n",
       "      <td>-83.96257</td>\n",
       "      <td>295.28</td>\n",
       "      <td>0.42</td>\n",
       "      <td>0.61</td>\n",
       "      <td>2025-04-19</td>\n",
       "      <td>811</td>\n",
       "      <td>N20</td>\n",
       "      <td>VIIRS</td>\n",
       "      <td>n</td>\n",
       "      <td>2.0NRT</td>\n",
       "      <td>280.54</td>\n",
       "      <td>0.55</td>\n",
       "      <td>N</td>\n",
       "      <td>2025-04-19 08:11:00</td>\n",
       "    </tr>\n",
       "    <tr>\n",
       "      <th>8</th>\n",
       "      <td>35.35420</td>\n",
       "      <td>-83.95432</td>\n",
       "      <td>367.00</td>\n",
       "      <td>0.34</td>\n",
       "      <td>0.56</td>\n",
       "      <td>2025-04-19</td>\n",
       "      <td>1752</td>\n",
       "      <td>N20</td>\n",
       "      <td>VIIRS</td>\n",
       "      <td>h</td>\n",
       "      <td>2.0NRT</td>\n",
       "      <td>295.92</td>\n",
       "      <td>4.40</td>\n",
       "      <td>D</td>\n",
       "      <td>2025-04-19 17:52:00</td>\n",
       "    </tr>\n",
       "    <tr>\n",
       "      <th>9</th>\n",
       "      <td>35.35496</td>\n",
       "      <td>-83.95129</td>\n",
       "      <td>329.19</td>\n",
       "      <td>0.34</td>\n",
       "      <td>0.56</td>\n",
       "      <td>2025-04-19</td>\n",
       "      <td>1752</td>\n",
       "      <td>N20</td>\n",
       "      <td>VIIRS</td>\n",
       "      <td>n</td>\n",
       "      <td>2.0NRT</td>\n",
       "      <td>292.65</td>\n",
       "      <td>4.40</td>\n",
       "      <td>D</td>\n",
       "      <td>2025-04-19 17:52:00</td>\n",
       "    </tr>\n",
       "    <tr>\n",
       "      <th>10</th>\n",
       "      <td>35.35905</td>\n",
       "      <td>-83.95657</td>\n",
       "      <td>339.01</td>\n",
       "      <td>0.34</td>\n",
       "      <td>0.56</td>\n",
       "      <td>2025-04-19</td>\n",
       "      <td>1752</td>\n",
       "      <td>N20</td>\n",
       "      <td>VIIRS</td>\n",
       "      <td>n</td>\n",
       "      <td>2.0NRT</td>\n",
       "      <td>292.96</td>\n",
       "      <td>4.40</td>\n",
       "      <td>D</td>\n",
       "      <td>2025-04-19 17:52:00</td>\n",
       "    </tr>\n",
       "    <tr>\n",
       "      <th>11</th>\n",
       "      <td>35.36256</td>\n",
       "      <td>-83.96416</td>\n",
       "      <td>367.00</td>\n",
       "      <td>0.34</td>\n",
       "      <td>0.56</td>\n",
       "      <td>2025-04-19</td>\n",
       "      <td>1752</td>\n",
       "      <td>N20</td>\n",
       "      <td>VIIRS</td>\n",
       "      <td>h</td>\n",
       "      <td>2.0NRT</td>\n",
       "      <td>295.96</td>\n",
       "      <td>4.28</td>\n",
       "      <td>D</td>\n",
       "      <td>2025-04-19 17:52:00</td>\n",
       "    </tr>\n",
       "    <tr>\n",
       "      <th>12</th>\n",
       "      <td>35.36325</td>\n",
       "      <td>-83.96140</td>\n",
       "      <td>341.67</td>\n",
       "      <td>0.34</td>\n",
       "      <td>0.56</td>\n",
       "      <td>2025-04-19</td>\n",
       "      <td>1752</td>\n",
       "      <td>N20</td>\n",
       "      <td>VIIRS</td>\n",
       "      <td>n</td>\n",
       "      <td>2.0NRT</td>\n",
       "      <td>292.72</td>\n",
       "      <td>4.28</td>\n",
       "      <td>D</td>\n",
       "      <td>2025-04-19 17:52:00</td>\n",
       "    </tr>\n",
       "    <tr>\n",
       "      <th>13</th>\n",
       "      <td>35.37343</td>\n",
       "      <td>-83.96394</td>\n",
       "      <td>353.52</td>\n",
       "      <td>0.34</td>\n",
       "      <td>0.56</td>\n",
       "      <td>2025-04-19</td>\n",
       "      <td>1752</td>\n",
       "      <td>N20</td>\n",
       "      <td>VIIRS</td>\n",
       "      <td>n</td>\n",
       "      <td>2.0NRT</td>\n",
       "      <td>296.86</td>\n",
       "      <td>7.79</td>\n",
       "      <td>D</td>\n",
       "      <td>2025-04-19 17:52:00</td>\n",
       "    </tr>\n",
       "    <tr>\n",
       "      <th>14</th>\n",
       "      <td>35.37435</td>\n",
       "      <td>-83.96024</td>\n",
       "      <td>337.02</td>\n",
       "      <td>0.34</td>\n",
       "      <td>0.56</td>\n",
       "      <td>2025-04-19</td>\n",
       "      <td>1752</td>\n",
       "      <td>N20</td>\n",
       "      <td>VIIRS</td>\n",
       "      <td>n</td>\n",
       "      <td>2.0NRT</td>\n",
       "      <td>296.78</td>\n",
       "      <td>6.43</td>\n",
       "      <td>D</td>\n",
       "      <td>2025-04-19 17:52:00</td>\n",
       "    </tr>\n",
       "  </tbody>\n",
       "</table>\n",
       "</div>"
      ],
      "text/plain": [
       "    latitude  longitude  bright_ti4  scan  track    acq_date  acq_time  \\\n",
       "0   35.35469  -83.95306      298.77  0.48   0.65  2025-04-19       631   \n",
       "1   35.35818  -83.94957      296.88  0.48   0.65  2025-04-19       631   \n",
       "2   35.35840  -83.95387      302.87  0.48   0.65  2025-04-19       631   \n",
       "3   35.36094  -83.95815      299.34  0.48   0.65  2025-04-19       631   \n",
       "4   35.36505  -83.96644      299.34  0.48   0.65  2025-04-19       631   \n",
       "5   35.36732  -83.96641      301.87  0.48   0.65  2025-04-19       631   \n",
       "6   35.37402  -83.96383      295.58  0.42   0.61  2025-04-19       811   \n",
       "7   35.37409  -83.96257      295.28  0.42   0.61  2025-04-19       811   \n",
       "8   35.35420  -83.95432      367.00  0.34   0.56  2025-04-19      1752   \n",
       "9   35.35496  -83.95129      329.19  0.34   0.56  2025-04-19      1752   \n",
       "10  35.35905  -83.95657      339.01  0.34   0.56  2025-04-19      1752   \n",
       "11  35.36256  -83.96416      367.00  0.34   0.56  2025-04-19      1752   \n",
       "12  35.36325  -83.96140      341.67  0.34   0.56  2025-04-19      1752   \n",
       "13  35.37343  -83.96394      353.52  0.34   0.56  2025-04-19      1752   \n",
       "14  35.37435  -83.96024      337.02  0.34   0.56  2025-04-19      1752   \n",
       "\n",
       "   satellite instrument confidence version  bright_ti5   frp daynight  \\\n",
       "0        N20      VIIRS          n  2.0NRT      285.62  0.57        N   \n",
       "1        N20      VIIRS          n  2.0NRT      286.38  0.68        N   \n",
       "2        N20      VIIRS          n  2.0NRT      286.00  0.68        N   \n",
       "3        N20      VIIRS          n  2.0NRT      285.57  1.56        N   \n",
       "4        N20      VIIRS          n  2.0NRT      284.68  0.67        N   \n",
       "5        N20      VIIRS          n  2.0NRT      285.41  1.46        N   \n",
       "6        N20      VIIRS          n  2.0NRT      280.50  0.57        N   \n",
       "7        N20      VIIRS          n  2.0NRT      280.54  0.55        N   \n",
       "8        N20      VIIRS          h  2.0NRT      295.92  4.40        D   \n",
       "9        N20      VIIRS          n  2.0NRT      292.65  4.40        D   \n",
       "10       N20      VIIRS          n  2.0NRT      292.96  4.40        D   \n",
       "11       N20      VIIRS          h  2.0NRT      295.96  4.28        D   \n",
       "12       N20      VIIRS          n  2.0NRT      292.72  4.28        D   \n",
       "13       N20      VIIRS          n  2.0NRT      296.86  7.79        D   \n",
       "14       N20      VIIRS          n  2.0NRT      296.78  6.43        D   \n",
       "\n",
       "          acq_datetime  \n",
       "0  2025-04-19 06:31:00  \n",
       "1  2025-04-19 06:31:00  \n",
       "2  2025-04-19 06:31:00  \n",
       "3  2025-04-19 06:31:00  \n",
       "4  2025-04-19 06:31:00  \n",
       "5  2025-04-19 06:31:00  \n",
       "6  2025-04-19 08:11:00  \n",
       "7  2025-04-19 08:11:00  \n",
       "8  2025-04-19 17:52:00  \n",
       "9  2025-04-19 17:52:00  \n",
       "10 2025-04-19 17:52:00  \n",
       "11 2025-04-19 17:52:00  \n",
       "12 2025-04-19 17:52:00  \n",
       "13 2025-04-19 17:52:00  \n",
       "14 2025-04-19 17:52:00  "
      ]
     },
     "execution_count": 8,
     "metadata": {},
     "output_type": "execute_result"
    }
   ],
   "source": [
    "cambiar_fecha(df_area)"
   ]
  },
  {
   "cell_type": "markdown",
   "id": "eb7df242",
   "metadata": {},
   "source": [
    "### kml"
   ]
  },
  {
   "cell_type": "code",
   "execution_count": null,
   "id": "0ac79b8e",
   "metadata": {},
   "outputs": [],
   "source": []
  },
  {
   "cell_type": "code",
   "execution_count": 49,
   "id": "0bc3aa67",
   "metadata": {},
   "outputs": [],
   "source": [
    "usa_url = 'https://firms.modaps.eosdis.nasa.gov/api/kml_fire_footprints/usa_contiguous_and_hawaii/7d/landsat'"
   ]
  },
  {
   "cell_type": "code",
   "execution_count": 50,
   "id": "3ead1769",
   "metadata": {},
   "outputs": [
    {
     "name": "stderr",
     "output_type": "stream",
     "text": [
      "c:\\Users\\javie\\AppData\\Local\\Programs\\Python\\Python311\\Lib\\site-packages\\pyogrio\\geopandas.py:265: UserWarning: More than one layer found in 'pyogrio_db92d9ffae414dc2b32ef7a3e64892d9.zip': '30m Fire Detection Centroids (Last 6 to 12hrs) ' (default), '30m Fire Detection Centroids (Last 12 to 24hrs) ', '30m Fire Detection Centroids (older than the last 24hrs) ', '30m Fire Detection Footprints (Last 6 to 12hrs) ', '30m Fire Detection Footprints (Last 12 to 24hrs) ', '30m Fire Detection Footprints (older than the last 24hrs) '. Specify layer parameter to avoid this warning.\n",
      "  result = read_func(\n"
     ]
    },
    {
     "data": {
      "text/plain": [
       "DetectionTime\n",
       "2025-04-20 17:40:00    397\n",
       "2025-04-20 17:39:00    228\n",
       "2025-04-20 17:37:00    117\n",
       "2025-04-20 18:28:00     88\n",
       "2025-04-20 15:57:00     73\n",
       "2025-04-20 16:50:00     54\n",
       "2025-04-20 17:34:00     47\n",
       "2025-04-20 15:59:00     31\n",
       "2025-04-20 16:00:00     30\n",
       "2025-04-20 16:52:00     20\n",
       "2025-04-20 17:36:00     16\n",
       "2025-04-20 18:24:00     16\n",
       "2025-04-20 15:56:00     14\n",
       "2025-04-20 16:01:00     12\n",
       "2025-04-20 15:58:00      8\n",
       "2025-04-20 17:38:00      7\n",
       "2025-04-20 18:27:00      7\n",
       "2025-04-20 16:48:00      6\n",
       "2025-04-20 17:35:00      2\n",
       "2025-04-20 17:33:00      2\n",
       "2025-04-20 18:25:00      2\n",
       "Name: count, dtype: int64"
      ]
     },
     "execution_count": 50,
     "metadata": {},
     "output_type": "execute_result"
    }
   ],
   "source": [
    "df_usa = gpd.read_file(usa_url)\n",
    "\n",
    "df_usa = agrergar_cols(df_usa)\n",
    "df_usa['DetectionTime'].value_counts()"
   ]
  },
  {
   "cell_type": "code",
   "execution_count": 51,
   "id": "c5357793",
   "metadata": {},
   "outputs": [
    {
     "name": "stderr",
     "output_type": "stream",
     "text": [
      "C:\\Users\\javie\\AppData\\Local\\Temp\\ipykernel_20448\\2338462743.py:1: UserWarning: Column names longer than 10 characters will be truncated when saved to ESRI Shapefile.\n",
      "  df_usa.to_file('data/EEUU/landsat_2004_kml', driver=\"ESRI Shapefile\")\n",
      "c:\\Users\\javie\\AppData\\Local\\Programs\\Python\\Python311\\Lib\\site-packages\\pyogrio\\raw.py:723: RuntimeWarning: Normalized/laundered field name: 'Description' to 'Descriptio'\n",
      "  ogr_write(\n",
      "c:\\Users\\javie\\AppData\\Local\\Programs\\Python\\Python311\\Lib\\site-packages\\pyogrio\\raw.py:723: RuntimeWarning: Normalized/laundered field name: 'DetectionTime' to 'DetectionT'\n",
      "  ogr_write(\n",
      "c:\\Users\\javie\\AppData\\Local\\Programs\\Python\\Python311\\Lib\\site-packages\\pyogrio\\raw.py:723: RuntimeWarning: Field DetectionT create as date field, though DateTime requested.\n",
      "  ogr_write(\n",
      "c:\\Users\\javie\\AppData\\Local\\Programs\\Python\\Python311\\Lib\\site-packages\\pyogrio\\raw.py:723: RuntimeWarning: Normalized/laundered field name: 'Brightness_K' to 'Brightness'\n",
      "  ogr_write(\n",
      "c:\\Users\\javie\\AppData\\Local\\Programs\\Python\\Python311\\Lib\\site-packages\\pyogrio\\raw.py:723: RuntimeWarning: Value '<b>Latitude: </b> 33.806484<br/>  <b>Longitude: </b> -118.379481<br/>  <b>Detection Time: </b> 2025-04-20 18:28 UTC<br/>  <b>Sensor: </b> Landsat 9 OLI<br/> <b>Confidence: </b> High<br/>  <b>Day/Night: </b> Day<br/> <b>WRS-2 Path: </b> 041<br/> <b>WRS-2 Row: </b> 037' of field Descriptio has been truncated to 254 characters.  This warning will not be emitted any more for that layer.\n",
      "  ogr_write(\n"
     ]
    }
   ],
   "source": [
    "df_usa.to_file('data/EEUU/landsat_2004_kml', driver=\"ESRI Shapefile\")"
   ]
  }
 ],
 "metadata": {
  "kernelspec": {
   "display_name": "Python 3",
   "language": "python",
   "name": "python3"
  },
  "language_info": {
   "codemirror_mode": {
    "name": "ipython",
    "version": 3
   },
   "file_extension": ".py",
   "mimetype": "text/x-python",
   "name": "python",
   "nbconvert_exporter": "python",
   "pygments_lexer": "ipython3",
   "version": "3.11.8"
  }
 },
 "nbformat": 4,
 "nbformat_minor": 5
}
